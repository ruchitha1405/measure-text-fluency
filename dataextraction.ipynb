{
 "cells": [
  {
   "cell_type": "code",
   "execution_count": 2,
   "metadata": {},
   "outputs": [],
   "source": [
    "\n",
    "from rouge import Rouge\n",
    "import numpy as np\n",
    "from scipy.stats import pearsonr"
   ]
  },
  {
   "cell_type": "code",
   "execution_count": 3,
   "metadata": {},
   "outputs": [],
   "source": [
    "meaning={6:3,7:3,9:3,11:2,12:2,14:2,21:1,22:1,24:1}\n",
    "grammer={6:3,7:2,9:1,11:3,12:2,14:1,21:3,22:2,24:1}"
   ]
  },
  {
   "cell_type": "code",
   "execution_count": 4,
   "metadata": {},
   "outputs": [],
   "source": [
    "def ReadTsv(path):\n",
    "    data=[]\n",
    "    with open(path,\"r\") as f:\n",
    "        count=0\n",
    "        for lines in f:\n",
    "            temp=[]\n",
    "            x=lines.replace('|||','\\t\\t')\n",
    "            x= x.split('\\t')\n",
    "            text = x[2]\n",
    "            temp.append(text[0:-1])\n",
    "            temp.append(x[4])\n",
    "            c=0\n",
    "            n=0\n",
    "            k=0\n",
    "            gram_sum =0\n",
    "            fluen_sum=0\n",
    "            score=0\n",
    "            \n",
    "            for i,y in enumerate(x):\n",
    "                if (k!=0):\n",
    "                    k-=1\n",
    "                    continue\n",
    "                if i<6:\n",
    "                    continue\n",
    "                if c==0:\n",
    "                    n = int(y)\n",
    "                    c=1\n",
    "                    continue\n",
    "                \n",
    "                if (not(y) or i==len(x)-2):\n",
    "                    temp.append(str(gram_sum/n))\n",
    "                    temp.append(str(fluen_sum/n))\n",
    "                    temp.append(str(score/n))\n",
    "                    fluen_sum=0\n",
    "                    gram_sum=0\n",
    "                    data.append(temp)\n",
    "                    temp=[text,x[i+1]]\n",
    "                    k=2\n",
    "                    c=0\n",
    "                    continue\n",
    "\n",
    "                gram_sum+=grammer[int(y)]\n",
    "                fluen_sum+=meaning[int(y)]\n",
    "                score+=int(y)\n",
    "                k=1\n",
    "            count+=1\n",
    "                \n",
    "    return (data)  \n",
    "train =ReadTsv('./RawData/train.tsv')      \n",
    "valid = ReadTsv('./RawData/valid.tsv')\n",
    "test = ReadTsv('./RawData/test.tsv')\n",
    "\n"
   ]
  },
  {
   "cell_type": "code",
   "execution_count": 26,
   "metadata": {},
   "outputs": [
    {
     "name": "stdout",
     "output_type": "stream",
     "text": [
      "3370\n"
     ]
    }
   ],
   "source": []
  },
  {
   "cell_type": "code",
   "execution_count": 28,
   "metadata": {},
   "outputs": [
    {
     "name": "stdout",
     "output_type": "stream",
     "text": [
      "3370\n"
     ]
    }
   ],
   "source": [
    "# write train into train.tsv file\n",
    "with open('./RawData/temp.tsv','w') as f:\n",
    "    for i in test:\n",
    "        f.write(i[0]+'|||'+i[1]+'|||'+i[2]+'|||'+i[3]+'|||'+i[4]+'\\n')\n",
    "\n",
    "print(len(test))\n"
   ]
  },
  {
   "cell_type": "code",
   "execution_count": 6,
   "metadata": {},
   "outputs": [],
   "source": [
    "def Rogue_L(compression,sentence):\n",
    "        rouge =Rouge()\n",
    "        scores = rouge.get_scores(compression, sentence)\n",
    "        return (scores[0]['rouge-l']['f'])\n",
    "def Rogue_1(compression,sentence):\n",
    "        rouge =Rouge()\n",
    "        scores = rouge.get_scores(compression, sentence)\n",
    "        return (scores[0]['rouge-1']['f'])\n",
    "def Rogue_2(compression,sentence):\n",
    "        rouge =Rouge()\n",
    "        scores = rouge.get_scores(compression, sentence)\n",
    "        return (scores[0]['rouge-2']['f'])"
   ]
  },
  {
   "cell_type": "code",
   "execution_count": 7,
   "metadata": {},
   "outputs": [],
   "source": [
    "\n",
    "\n",
    "MSE_ROUGEL=[]\n",
    "for i in range(len(train)): \n",
    "    x=Rogue_L(train[i][0],train[i][1])\n",
    "    MSE_ROUGEL.append(x)\n"
   ]
  },
  {
   "cell_type": "code",
   "execution_count": 8,
   "metadata": {},
   "outputs": [],
   "source": [
    "MSE_ROUGE1=[]\n",
    "for i in range(len(train)): \n",
    "    x=Rogue_1(train[i][0],train[i][1])\n",
    "    MSE_ROUGE1.append(x)"
   ]
  },
  {
   "cell_type": "code",
   "execution_count": 9,
   "metadata": {},
   "outputs": [],
   "source": [
    "MSE_ROUGE2=[]\n",
    "for i in range(len(train)): \n",
    "    x=Rogue_2(train[i][0],train[i][1])\n",
    "    MSE_ROUGE2.append(x)\n"
   ]
  },
  {
   "cell_type": "code",
   "execution_count": 10,
   "metadata": {},
   "outputs": [],
   "source": [
    "# convert all of them into numpy arrays\n",
    "\n",
    "MSE_ROUGEL = np.array(MSE_ROUGEL)\n",
    "MSE_ROUGE1 = np.array(MSE_ROUGE1)\n",
    "MSE_ROUGE2 = np.array(MSE_ROUGE2)"
   ]
  },
  {
   "cell_type": "code",
   "execution_count": 11,
   "metadata": {},
   "outputs": [],
   "source": [
    "grammer_mat=[]\n",
    "meaning_mat=[]\n",
    "score_mat=[]\n",
    "for i in range(len(train)):\n",
    "    grammer_mat.append(float(train[i][2]))\n",
    "    meaning_mat.append(float(train[i][3]))\n",
    "    score_mat.append(float(train[i][4]))\n",
    "\n",
    "grammer_mat = np.array(grammer_mat)\n",
    "meaning_mat = np.array(meaning_mat)\n",
    "score_mat = np.array(score_mat)"
   ]
  },
  {
   "cell_type": "code",
   "execution_count": 12,
   "metadata": {},
   "outputs": [
    {
     "name": "stdout",
     "output_type": "stream",
     "text": [
      "Pearsons correlation between grammer and ROUGE-L: 0.102\n"
     ]
    }
   ],
   "source": [
    "correlation, _ = pearsonr(grammer_mat, MSE_ROUGEL)\n",
    "print('Pearsons correlation between grammer and ROUGE-L: %.3f' % correlation)"
   ]
  },
  {
   "cell_type": "code",
   "execution_count": 13,
   "metadata": {},
   "outputs": [
    {
     "name": "stdout",
     "output_type": "stream",
     "text": [
      "Pearsons correlation between meaning_mat and ROUGE-L: 0.113\n"
     ]
    }
   ],
   "source": [
    "correlation, _ = pearsonr(meaning_mat, MSE_ROUGEL)\n",
    "print('Pearsons correlation between meaning_mat and ROUGE-L: %.3f' % correlation)"
   ]
  },
  {
   "cell_type": "code",
   "execution_count": 14,
   "metadata": {},
   "outputs": [
    {
     "name": "stdout",
     "output_type": "stream",
     "text": [
      "Pearsons correlation between score_mat and ROUGE-L: -0.118\n"
     ]
    }
   ],
   "source": [
    "correlation, _ = pearsonr(score_mat, MSE_ROUGEL)\n",
    "print('Pearsons correlation between score_mat and ROUGE-L: %.3f' % correlation)"
   ]
  },
  {
   "cell_type": "code",
   "execution_count": 15,
   "metadata": {},
   "outputs": [
    {
     "name": "stdout",
     "output_type": "stream",
     "text": [
      "Pearsons correlation between grammer and ROUGE-1: 0.120\n"
     ]
    }
   ],
   "source": [
    "correlation, _ = pearsonr(grammer_mat, MSE_ROUGE1)\n",
    "print('Pearsons correlation between grammer and ROUGE-1: %.3f' % correlation)"
   ]
  },
  {
   "cell_type": "code",
   "execution_count": 16,
   "metadata": {},
   "outputs": [
    {
     "name": "stdout",
     "output_type": "stream",
     "text": [
      "Pearsons correlation between meaning_mat and ROUGE-1: 0.131\n"
     ]
    }
   ],
   "source": [
    "correlation, _ = pearsonr(meaning_mat, MSE_ROUGE1)\n",
    "print('Pearsons correlation between meaning_mat and ROUGE-1: %.3f' % correlation)"
   ]
  },
  {
   "cell_type": "code",
   "execution_count": 17,
   "metadata": {},
   "outputs": [
    {
     "name": "stdout",
     "output_type": "stream",
     "text": [
      "Pearsons correlation between score_mat and ROUGE-1: -0.136\n"
     ]
    }
   ],
   "source": [
    "correlation, _ = pearsonr(score_mat, MSE_ROUGE1)\n",
    "print('Pearsons correlation between score_mat and ROUGE-1: %.3f' % correlation)"
   ]
  },
  {
   "cell_type": "code",
   "execution_count": 18,
   "metadata": {},
   "outputs": [
    {
     "name": "stdout",
     "output_type": "stream",
     "text": [
      "Pearsons correlation between wpslor and grammer_mat: 0.069\n",
      "Pearsons correlation between wpslor and meaning_mat: 0.020\n",
      "Pearsons correlation between wpslor and score_mat: -0.017\n"
     ]
    }
   ],
   "source": [
    "# get the last coloumn of temp.tsv for each line where each are seperated by tab delimiters\n",
    "wpslor=[]\n",
    "with open('./RawData/WPSLOR.tsv','r') as f:\n",
    "    for lines in f:\n",
    "        x=lines.replace('|||','\\t\\t')\n",
    "        # print(x)\n",
    "        x=x.split('\\t')\n",
    "        wpslor.append(float(x[-1]))\n",
    "\n",
    "wpslor = np.array(wpslor)\n",
    "def skip_correlation(y1,y2):\n",
    "    mask = np.logical_and(np.isfinite(y1), np.isfinite(y2))\n",
    "    filtered_x = y1[mask]\n",
    "    filtered_y = y2[mask]\n",
    "    correlation, _ = pearsonr(filtered_x, filtered_y)\n",
    "    \n",
    "    return correlation\n",
    "\n",
    "\n",
    "# Calculate Pearson correlation coefficient\n",
    "correlation= skip_correlation(wpslor, grammer_mat)\n",
    "    \n",
    "print('Pearsons correlation between wpslor and grammer_mat: %.3f' % correlation)\n",
    "\n",
    "correlation= skip_correlation(wpslor, meaning_mat)\n",
    "    \n",
    "print('Pearsons correlation between wpslor and meaning_mat: %.3f' % correlation)\n",
    "\n",
    "correlation= skip_correlation(wpslor, score_mat)\n",
    "    \n",
    "print('Pearsons correlation between wpslor and score_mat: %.3f' % correlation)\n",
    "\n",
    "\n"
   ]
  },
  {
   "cell_type": "code",
   "execution_count": 31,
   "metadata": {},
   "outputs": [],
   "source": [
    "grammer_mat_test=[]\n",
    "meaning_mat_test=[]\n",
    "for i in range(len(test)):\n",
    "    grammer_mat_test.append(float(test[i][2]))\n",
    "    meaning_mat_test.append(float(test[i][3]))\n",
    "\n",
    "grammer_mat_test = np.array(grammer_mat_test)\n",
    "meaning_mat_test = np.array(meaning_mat_test)"
   ]
  },
  {
   "cell_type": "code",
   "execution_count": 32,
   "metadata": {},
   "outputs": [
    {
     "name": "stdout",
     "output_type": "stream",
     "text": [
      "Pearsons correlation between slor_mat and grammer_mat: 0.102\n",
      "Pearsons correlation between slor_mat and meaning_mat_test: 0.094\n"
     ]
    }
   ],
   "source": [
    "slor_mat=np.load('./RawData/slor_1.npy')\n",
    "\n",
    "correlation = skip_correlation(slor_mat, grammer_mat_test)\n",
    "print('Pearsons correlation between slor_mat and grammer_mat: %.3f' % correlation)\n",
    "correlation = skip_correlation(slor_mat, meaning_mat_test)\n",
    "print('Pearsons correlation between slor_mat and meaning_mat_test: %.3f' % correlation)"
   ]
  }
 ],
 "metadata": {
  "kernelspec": {
   "display_name": "Python 3",
   "language": "python",
   "name": "python3"
  },
  "language_info": {
   "codemirror_mode": {
    "name": "ipython",
    "version": 3
   },
   "file_extension": ".py",
   "mimetype": "text/x-python",
   "name": "python",
   "nbconvert_exporter": "python",
   "pygments_lexer": "ipython3",
   "version": "3.10.12"
  }
 },
 "nbformat": 4,
 "nbformat_minor": 2
}
